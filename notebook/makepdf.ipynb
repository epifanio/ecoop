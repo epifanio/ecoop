{
 "metadata": {
  "gist_id": "8872049",
  "name": "",
  "signature": "sha256:f3cd29f3c944d5fb319bcc3f20b867d666973301351feab66db1b86fc4f9de77"
 },
 "nbformat": 3,
 "nbformat_minor": 0,
 "worksheets": [
  {
   "cells": [
    {
     "cell_type": "markdown",
     "metadata": {},
     "source": [
      "INSTALLATION:\n",
      "\n",
      "* Download and install the ecoop code and its dependencies\n",
      "    \n",
      "    ```\n",
      "    wget http://udoo.whoi.edu/shared/ecoop-0.0.1.tar.gz\n",
      "    tar -zxvf ecoop-0.0.1.tar.gz\n",
      "    cd ecoop-0.0.1\n",
      "    pip install -r requirement.txt\n",
      "    python setup.py install\n",
      "    cd ..\n",
      "    ```\n",
      "\n",
      "*  pdflatex<br>\n",
      "\n",
      "    ```\n",
      "    apt-get install texlive texlive-latex-extra      \n",
      "    ```\n",
      "      \n",
      "* gist utility:\n",
      "\n",
      "    ```\n",
      "    apt-get install rubygems\n",
      "    gem install gist\n",
      "    ```"
     ]
    },
    {
     "cell_type": "code",
     "collapsed": false,
     "input": [
      "from ecoop.ecooputil import shareUtil\n",
      "from ecoop.cf import cfData, cfPlot, cfPrint\n",
      "from ecoop.ecooprovdict import ecooProvDict"
     ],
     "language": "python",
     "metadata": {},
     "outputs": []
    },
    {
     "cell_type": "code",
     "collapsed": false,
     "input": [
      "util = shareUtil()\n",
      "cfd = cfData()\n",
      "cfp = cfPlot()\n",
      "cft = cfPrint()"
     ],
     "language": "python",
     "metadata": {},
     "outputs": []
    },
    {
     "cell_type": "code",
     "collapsed": false,
     "input": [
      "import os\n",
      "def openDocument(col='twocolumn'):\n",
      "    doc = \"\"\"\\documentclass{article}\n",
      "        \\usepackage{multicol}\n",
      "        \\usepackage[english]{babel}\n",
      "        \\usepackage{blindtext}\n",
      "        \\usepackage[pdftex]{graphicx}\n",
      "        \\usepackage{graphicx}\n",
      "        \\usepackage{wrapfig}\n",
      "        \\usepackage{hyperref}\n",
      "        \\usepackage{fancyvrb}\n",
      "        \\usepackage[utf8]{inputenc}\n",
      "        \\\\begin{document}\n",
      "        \\\\begin{%s}\n",
      "        \"\"\" % col\n",
      "    return doc\n",
      "    \n",
      "def closeDocument(col='twocolumn'):\n",
      "    doc = \"\"\"\\end{%s}\n",
      "        \\end{document}\n",
      "        \"\"\" % (col)\n",
      "    return doc\n",
      "\n",
      "def addSection(name, data, fig=''):\n",
      "    doc = \"\"\"\\section{%s}\n",
      "        \\input{%s}\n",
      "        %s\n",
      "        \"\"\" % (name, data, fig)\n",
      "    return doc\n",
      "    \n",
      "def addSubSection(name, data, fig=''):\n",
      "    doc = \"\"\"\\subsection{%s}\n",
      "        \\input{%s}\n",
      "        %s\n",
      "        \"\"\" % (name, data, fig)\n",
      "    return doc\n",
      "    \n",
      "def addFigure(img, name, data, code):\n",
      "    doc =\"\"\"\\\\begin{figure}[h]\n",
      "        {\\includegraphics[width=60mm]{%s}}\n",
      "        \\caption{%s - \\href{%s}{data} -\n",
      "        \\href{%s}{code}.}\n",
      "        \\end{figure}\n",
      "        \"\"\" % (img, name, data, code)\n",
      "    return doc\n"
     ],
     "language": "python",
     "metadata": {},
     "outputs": []
    },
    {
     "cell_type": "heading",
     "level": 1,
     "metadata": {},
     "source": [
      "Document"
     ]
    },
    {
     "cell_type": "code",
     "collapsed": false,
     "input": [
      "ID = util.get_id('Climate-forcing_pdf')\n",
      "document = openDocument()"
     ],
     "language": "python",
     "metadata": {},
     "outputs": []
    },
    {
     "cell_type": "heading",
     "level": 2,
     "metadata": {},
     "source": [
      "Section 1"
     ]
    },
    {
     "cell_type": "code",
     "collapsed": false,
     "input": [
      "%%file {ID}/climate_forcing.txt\n",
      "Climate patterns over the North Atlantic are important drivers of oceanographic conditions and ecosystem states. \n",
      "Steadily increasing atmospheric carbon dioxide levels can not only affect climate on global and regional scales \n",
      "but alter critical aspects of ocean chemistry. Here, we describe the atmospheric forcing mechanisms related \n",
      "to climate in this region including large-scale atmospheric pressure systems, natural ocean temperature cycles in the North Atlantic, \n",
      "components of the large-scale circulation of the Atlantic Ocean, and issues related to ocean acidification."
     ],
     "language": "python",
     "metadata": {},
     "outputs": []
    },
    {
     "cell_type": "code",
     "collapsed": false,
     "input": [
      "section = addSection(name='Climate Forcing', data=os.path.join(ID,'climate_forcing.txt'))  "
     ],
     "language": "python",
     "metadata": {},
     "outputs": []
    },
    {
     "cell_type": "heading",
     "level": 3,
     "metadata": {},
     "source": [
      "Sub Section 1"
     ]
    },
    {
     "cell_type": "code",
     "collapsed": false,
     "input": [
      "%%file {ID}/nao.txt\n",
      "Climate and weather over the North Atlantic are strongly influenced by the relative strengths \n",
      "of two large-scale atmospheric pressure cells -- the Icelandic Low and the Azores High [4]. \n",
      "As the relative strengths of these two pressure systems vary, characteristic patterns of temperature, precipitation, and wind fields are observed. \n",
      "An index of this dipole pattern has been developed based on the standardized difference in sea level pressure between Lisbon, Portugal and Reykjav\u00edk, \n",
      "Iceland in the winter (December-February; see Glossary for a description of methods used to create standardized indicators). \n",
      "This North Atlantic Oscillation (NAO) index has been related to key oceanographic and ecological processes in the North Atlantic basin [5].  \n",
      "When the NAO index is high (positive NAO state), the westerly winds shift northward and increase in strength. \n",
      "Additionally, there is an increase in precipitation over southeastern Canada, the eastern seaboard of the United States, \n",
      "and northwestern Europe. Water temperatures are cool off Labrador and northern Newfoundland, influencing the formation of Deep Labrador Slope water, \n",
      "but warm off the United States. \n",
      "Conversely, when the NAO index is low (negative NAO state), there is a southward shift and decrease in westerly winds, decreased storminess, \n",
      "and drier conditions over southeastern Canada, the eastern United States, and northwestern Europe. \n",
      "Water temperatures are warmer off Labrador and Newfoundland, but cooler off the eastern United States. \n",
      "Since 1972, the NAO has primarily been in a positive state (Figure 1), although notable short-term reversals to a negative state have been observed during this period. \n",
      "Changes in the NAO have been linked to changes in plankton community composition in the North Atlantic, reflecting changes in both the distribution \n",
      "and abundance of warm and cold-temperate species."
     ],
     "language": "python",
     "metadata": {},
     "outputs": []
    },
    {
     "cell_type": "code",
     "collapsed": false,
     "input": [
      "# NAO\n",
      "naodata = cfd.nao_get(save=ID, csvout=\"nao.csv\")\n",
      "cfp.plot_index(name='NAO_lowess', xticks=10, xticks_fontsize=10, \n",
      "               data=naodata, nb='y', scategory='lowess', frac=1./6, it=6, \n",
      "               output=ID, dateformat=True, figsave=\"nao.png\")"
     ],
     "language": "python",
     "metadata": {},
     "outputs": []
    },
    {
     "cell_type": "code",
     "collapsed": false,
     "input": [
      "import time\n",
      "time.sleep(1)\n",
      "nb_name = 'makepdf.ipynb'\n",
      "util.save_notebook(ID, nb_name)\n",
      "import time\n",
      "time.sleep(1)\n",
      "\n",
      "\n",
      "nao_datafile = os.path.join(ID,'nao.csv')\n",
      "naodatalink = util.gistit(filename=nao_datafile, jist='/usr/local/bin/gist', type='text')\n",
      "\n",
      "nbviewerlink = util.gistit(filename=nb_name, jist='/usr/local/bin/gist', type='notebook')\n",
      "naofig = addFigure(img=os.path.join(ID,'nao.png'), name='North Atlantic Oscillation', data=naodatalink, code=nbviewerlink)"
     ],
     "language": "python",
     "metadata": {},
     "outputs": []
    },
    {
     "cell_type": "code",
     "collapsed": false,
     "input": [
      "naosubsection = addSubSection(name='North Atlantic Oscillation Index', data=os.path.join(ID,'nao.txt'), fig=naofig)"
     ],
     "language": "python",
     "metadata": {},
     "outputs": []
    },
    {
     "cell_type": "heading",
     "level": 3,
     "metadata": {},
     "source": [
      "Sub Section 2"
     ]
    },
    {
     "cell_type": "code",
     "collapsed": false,
     "input": [
      "%%file {ID}/amo.txt\n",
      "Multidecadal patterns in sea surface temperature (SST) in the North Atlantic are represented by the Atlantic Multidecadal Oscillation (AMO) index. \n",
      "The AMO signal is based on spatial patterns in SST variability after removing the effects of anthropogenic forcing on temperature, \n",
      "revealing natural long term cycles in SST.\n",
      "The AMO is characterized by warm and cool phases [6] with periods of approximately 20-40 years. \n",
      "The AMO index is related to air temperatures and rainfall over North America and Europe and is associated \n",
      "with changes in the frequency of droughts in North America and the frequency of severe hurricane events. \n",
      "The AMO is thought to be related to the North Atlantic branch of the deep thermohaline circulation \n",
      "(for more see The Gulf Stream below) which is in turn directly related to dynamics of the Gulf Stream.\n",
      "The AMO index shows a relatively cool period starting in the early 1960s, extending through the mid 1990s. \n",
      "Since 1997, the AMO has been in a warm phase (Figure 2). \n",
      "If past patterns continue to hold, the warm phase will potentially continue for the next several decades."
     ],
     "language": "python",
     "metadata": {},
     "outputs": []
    },
    {
     "cell_type": "code",
     "collapsed": false,
     "input": [
      "# AMO\n",
      "amodata = cfd.amo_get(save=ID, csvout=\"amo.csv\")\n",
      "cfp.plot_index(name='AMO_lowess', xticks=10, xticks_fontsize=10, \n",
      "               data=amodata, nb='y', scategory='lowess', frac=1./6, it=6, \n",
      "               output=ID, dateformat=True, figsave=\"amo.png\")"
     ],
     "language": "python",
     "metadata": {},
     "outputs": []
    },
    {
     "cell_type": "code",
     "collapsed": false,
     "input": [
      "\n",
      "import time\n",
      "time.sleep(1)\n",
      "nb_name = 'makepdf.ipynb'\n",
      "util.save_notebook(ID, nb_name)\n",
      "import time\n",
      "time.sleep(1)\n",
      "\n",
      "amo_datafile = os.path.join(ID,'amo.csv')\n",
      "amodatalink = util.gistit(filename=amo_datafile, jist='/usr/local/bin/gist', type='text')\n",
      "\n",
      "nbviewerlink2 = util.gistit(filename=nb_name, jist='/usr/local/bin/gist', type='notebook')\n",
      "amofig = addFigure(img=os.path.join(ID,'amo.png'), name='Atlantic Multidecadal Oscillation', data=amodatalink, code=nbviewerlink2)"
     ],
     "language": "python",
     "metadata": {},
     "outputs": []
    },
    {
     "cell_type": "code",
     "collapsed": false,
     "input": [
      "amosubsection = addSubSection(name='Atlantic Multidecadal Oscillation', data=os.path.join(ID,'amo.txt'), fig=amofig)"
     ],
     "language": "python",
     "metadata": {},
     "outputs": []
    },
    {
     "cell_type": "heading",
     "level": 1,
     "metadata": {},
     "source": [
      "Write Document"
     ]
    },
    {
     "cell_type": "code",
     "collapsed": false,
     "input": [
      "closedDocument = closeDocument()"
     ],
     "language": "python",
     "metadata": {},
     "outputs": []
    },
    {
     "cell_type": "code",
     "collapsed": false,
     "input": [
      "texfile=''\n",
      "texfile += document\n",
      "texfile += section\n",
      "texfile += naosubsection\n",
      "texfile += amosubsection\n",
      "texfile += closedDocument"
     ],
     "language": "python",
     "metadata": {},
     "outputs": []
    },
    {
     "cell_type": "code",
     "collapsed": false,
     "input": [
      "pdf = os.path.join(ID,'test.tex')\n",
      "f = open(pdf,'w')\n",
      "f.write(texfile)\n",
      "f.close()"
     ],
     "language": "python",
     "metadata": {},
     "outputs": []
    },
    {
     "cell_type": "code",
     "collapsed": false,
     "input": [
      "!pdflatex -output-directory={ID} {pdf}"
     ],
     "language": "python",
     "metadata": {},
     "outputs": []
    },
    {
     "cell_type": "code",
     "collapsed": false,
     "input": [
      "!cp {ID}/test.pdf /var/www/shared/test.pdf"
     ],
     "language": "python",
     "metadata": {},
     "outputs": []
    },
    {
     "cell_type": "markdown",
     "metadata": {},
     "source": [
      "PDF available at http://144.76.93.231/shared/test.pdf"
     ]
    },
    {
     "cell_type": "code",
     "collapsed": false,
     "input": [],
     "language": "python",
     "metadata": {},
     "outputs": []
    }
   ],
   "metadata": {}
  }
 ]
}