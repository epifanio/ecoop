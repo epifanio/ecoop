{
 "metadata": {
  "name": "ecoop_t1"
 },
 "nbformat": 3,
 "nbformat_minor": 0,
 "worksheets": [
  {
   "cells": [
    {
     "cell_type": "code",
     "collapsed": false,
     "input": "#%loadpy https://raw.github.com/epifanio/ecoop/master/cf.py",
     "language": "python",
     "metadata": {},
     "outputs": []
    },
    {
     "cell_type": "code",
     "collapsed": false,
     "input": "#%loadpy https://raw.github.com/epifanio/ecoop/master/ecooputil.py",
     "language": "python",
     "metadata": {},
     "outputs": []
    },
    {
     "cell_type": "code",
     "collapsed": false,
     "input": "from ecooputil import shareUtil\nfrom cf import cfData, cfPlot",
     "language": "python",
     "metadata": {},
     "outputs": []
    },
    {
     "cell_type": "code",
     "collapsed": false,
     "input": "util = shareUtil()\ncfd = cfData()\ncfp = cfPlot()",
     "language": "python",
     "metadata": {},
     "outputs": []
    },
    {
     "cell_type": "code",
     "collapsed": false,
     "input": "ID = shareUtil().get_id('Climate-forcing_pdf')",
     "language": "python",
     "metadata": {},
     "outputs": []
    },
    {
     "cell_type": "markdown",
     "metadata": {},
     "source": "##Climate Forcing\n\nClimate patterns over the North Atlantic are important drivers of oceanographic conditions and ecosystem states. \nSteadily increasing atmospheric carbon dioxide levels can not only affect climate on global and regional scales \nbut alter critical aspects of ocean chemistry. Here, we describe the atmospheric forcing mechanisms related \nto climate in this region including large-scale atmospheric pressure systems, natural ocean temperature cycles in the North Atlantic, \ncomponents of the large-scale circulation of the Atlantic Ocean, and issues related to ocean acidification."
    },
    {
     "cell_type": "code",
     "collapsed": false,
     "input": "%%file {ID}/climate_forcing.txt\nClimate patterns over the North Atlantic are important drivers of oceanographic conditions and ecosystem states. \nSteadily increasing atmospheric carbon dioxide levels can not only affect climate on global and regional scales \nbut alter critical aspects of ocean chemistry. Here, we describe the atmospheric forcing mechanisms related \nto climate in this region including large-scale atmospheric pressure systems, natural ocean temperature cycles in the North Atlantic, \ncomponents of the large-scale circulation of the Atlantic Ocean, and issues related to ocean acidification.",
     "language": "python",
     "metadata": {},
     "outputs": []
    },
    {
     "cell_type": "markdown",
     "metadata": {},
     "source": "***North Atlantic Osccilation (NAO)***\n\nClimate and weather over the North Atlantic are strongly influenced by the relative strengths \nof two large-scale atmospheric pressure cells -- the Icelandic Low and the Azores High [4]. \nAs the relative strengths of these two pressure systems vary, characteristic patterns of temperature, precipitation, and wind fields are observed. \nAn index of this dipole pattern has been developed based on the standardized difference in sea level pressure between Lisbon, Portugal and Reykjav\u00edk, \nIceland in the winter (December-February; see Glossary for a description of methods used to create standardized indicators). \nThis North Atlantic Oscillation (NAO) index has been related to key oceanographic and ecological processes in the North Atlantic basin [5].  \nWhen the NAO index is high (positive NAO state), the westerly winds shift northward and increase in strength. \nAdditionally, there is an increase in precipitation over southeastern Canada, the eastern seaboard of the United States, \nand northwestern Europe. Water temperatures are cool off Labrador and northern Newfoundland, influencing the formation of Deep Labrador Slope water, \nbut warm off the United States. \nConversely, when the NAO index is low (negative NAO state), there is a southward shift and decrease in westerly winds, decreased storminess, \nand drier conditions over southeastern Canada, the eastern United States, and northwestern Europe. \nWater temperatures are warmer off Labrador and Newfoundland, but cooler off the eastern United States. \nSince 1972, the NAO has primarily been in a positive state (Figure 1), although notable short-term reversals to a negative state have been observed during this period. \nChanges in the NAO have been linked to changes in plankton community composition in the North Atlantic, reflecting changes in both the distribution \nand abundance of warm and cold-temperate species."
    },
    {
     "cell_type": "code",
     "collapsed": false,
     "input": "%%file {ID}/nao.txt\nClimate and weather over the North Atlantic are strongly influenced by the relative strengths \nof two large-scale atmospheric pressure cells -- the Icelandic Low and the Azores High [4]. \nAs the relative strengths of these two pressure systems vary, characteristic patterns of temperature, precipitation, and wind fields are observed. \nAn index of this dipole pattern has been developed based on the standardized difference in sea level pressure between Lisbon, Portugal and Reykjav\u00edk, \nIceland in the winter (December-February; see Glossary for a description of methods used to create standardized indicators). \nThis North Atlantic Oscillation (NAO) index has been related to key oceanographic and ecological processes in the North Atlantic basin [5].  \nWhen the NAO index is high (positive NAO state), the westerly winds shift northward and increase in strength. \nAdditionally, there is an increase in precipitation over southeastern Canada, the eastern seaboard of the United States, \nand northwestern Europe. Water temperatures are cool off Labrador and northern Newfoundland, influencing the formation of Deep Labrador Slope water, \nbut warm off the United States. \nConversely, when the NAO index is low (negative NAO state), there is a southward shift and decrease in westerly winds, decreased storminess, \nand drier conditions over southeastern Canada, the eastern United States, and northwestern Europe. \nWater temperatures are warmer off Labrador and Newfoundland, but cooler off the eastern United States. \nSince 1972, the NAO has primarily been in a positive state (Figure 1), although notable short-term reversals to a negative state have been observed during this period. \nChanges in the NAO have been linked to changes in plankton community composition in the North Atlantic, reflecting changes in both the distribution \nand abundance of warm and cold-temperate species.",
     "language": "python",
     "metadata": {},
     "outputs": []
    },
    {
     "cell_type": "code",
     "collapsed": false,
     "input": "naodata = cfd.nao_get(save=ID)\ncfp.plot_index(name='NAO_lowess', xticks=10, xticks_fontsize=10, data=naodata, nb='y', scategory='lowess', frac=1./6,it=6, output=ID, dateformat=True)",
     "language": "python",
     "metadata": {},
     "outputs": []
    },
    {
     "cell_type": "markdown",
     "metadata": {},
     "source": "***Atlantic Multidecadal Oscillation (AMO)***\n\nMultidecadal patterns in sea surface temperature (SST) in the North Atlantic are represented\nby the Atlantic Multidecadal Oscillation (AMO) index. \nThe AMO signal is based on spatial patterns in SST variability after removing the effects of anthropogenic forcing on temperature, \nrevealing natural long term cycles in SST.\nThe AMO is characterized by warm and cool phases [6] with periods of approximately 20-40 years. \nThe AMO index is related to air temperatures and rainfall over North America and Europe and is associated \nwith changes in the frequency of droughts in North America and the frequency of severe hurricane events. \nThe AMO is thought to be related to the North Atlantic branch of the deep thermohaline circulation \n(for more see The Gulf Stream below) which is in turn directly related to dynamics of the Gulf Stream.\nThe AMO index shows a relatively cool period starting in the early 1960s, extending through the mid 1990s. \nSince 1997, the AMO has been in a warm phase (Figure 2). \nIf past patterns continue to hold, the warm phase will potentially continue for the next several decades."
    },
    {
     "cell_type": "code",
     "collapsed": false,
     "input": "%%file {ID}/amo.txt\nMultidecadal patterns in sea surface temperature (SST) in the North Atlantic are represented by the Atlantic Multidecadal Oscillation (AMO) index. \nThe AMO signal is based on spatial patterns in SST variability after removing the effects of anthropogenic forcing on temperature, \nrevealing natural long term cycles in SST.\nThe AMO is characterized by warm and cool phases [6] with periods of approximately 20-40 years. \nThe AMO index is related to air temperatures and rainfall over North America and Europe and is associated \nwith changes in the frequency of droughts in North America and the frequency of severe hurricane events. \nThe AMO is thought to be related to the North Atlantic branch of the deep thermohaline circulation \n(for more see The Gulf Stream below) which is in turn directly related to dynamics of the Gulf Stream.\nThe AMO index shows a relatively cool period starting in the early 1960s, extending through the mid 1990s. \nSince 1997, the AMO has been in a warm phase (Figure 2). \nIf past patterns continue to hold, the warm phase will potentially continue for the next several decades.",
     "language": "python",
     "metadata": {},
     "outputs": []
    },
    {
     "cell_type": "code",
     "collapsed": false,
     "input": "amodata = cfd.amo_get(save=ID)\ncfp.plot_index(name='AMO_lowess', data=amodata, nb='y', scategory='lowess', frac=1./6,it=6, output=ID, dateformat=True)",
     "language": "python",
     "metadata": {},
     "outputs": []
    },
    {
     "cell_type": "code",
     "collapsed": false,
     "input": "nb_name = 'ESR_pdf_pandas.ipynb'\nnao_datafile = os.path.join(ID,'nao.csv')\namo_datafile = os.path.join(ID,'amo.csv')\nnbviewerlink = gistit(filename=nb_name, jist='/usr/local/bin/jist', type='notebook')\nnaodatalink = gistit(filename=nao_datafile, jist='/usr/local/bin/jist', type='text')\namodatalink = gistit(filename=amo_datafile, jist='/usr/local/bin/jist', type='text')\namofigfile='AMO_lowess.png'\nnaofigfile='NAO_lowess.png'",
     "language": "python",
     "metadata": {},
     "outputs": []
    },
    {
     "cell_type": "code",
     "collapsed": false,
     "input": "print nbviewerlink\nprint naodatalink\nprint amodatalink\nprint nao_datafile\namodatalink = naodatalink",
     "language": "python",
     "metadata": {},
     "outputs": []
    },
    {
     "cell_type": "code",
     "collapsed": false,
     "input": "makepdf(ID=ID,\n        cf='climate_forcing.txt', \n        naotxt='nao.txt', \n        amotxt='amo.txt', \n        amofigfile=amofigfile, \n        naofigfile=naofigfile, \n        naodatalink=naodatalink,\n        amodatalink=amodatalink,\n        nbviewerlink=nbviewerlink)",
     "language": "python",
     "metadata": {},
     "outputs": []
    },
    {
     "cell_type": "code",
     "collapsed": false,
     "input": "save_notebook(ID, nb_name)",
     "language": "python",
     "metadata": {},
     "outputs": []
    },
    {
     "cell_type": "code",
     "collapsed": false,
     "input": "username = 'user'\npassword = 'xxxxxxxxxxxxxx'\nhostname = 'aaa.bb.bb.ddd'\nport = 22\ninputfile = '/home/epifanio/esr_notebooks/Climate-forcing_pdf_Thursday_03_October_2013_03_43_08_PM'\noutputfile = '/var/www/esr/Climate-forcing_pdf_Thursday_03_October_2013_03_43_08_PM'",
     "language": "python",
     "metadata": {},
     "outputs": []
    },
    {
     "cell_type": "code",
     "collapsed": false,
     "input": "uploadfile(username=username, password=password, hostname=hostname, port=port, inputfile=inputfile,outputfile=outputfile, zip=True, link=True, qr=True)\n",
     "language": "python",
     "metadata": {},
     "outputs": []
    },
    {
     "cell_type": "markdown",
     "metadata": {},
     "source": "####Source code used :\n[test2.py](https://scm.escience.rpi.edu/trac/browser/public/ecoop/trunk/python/test2.py)"
    },
    {
     "cell_type": "code",
     "collapsed": false,
     "input": "save_notebook(ID, nb_name)",
     "language": "python",
     "metadata": {},
     "outputs": []
    },
    {
     "cell_type": "code",
     "collapsed": false,
     "input": "import time\ntime.sleep(5)\ngistit(filename='ESR_pdf_pandas.ipynb', jist='/usr/local/bin/jist', type='notebook')",
     "language": "python",
     "metadata": {},
     "outputs": []
    }
   ],
   "metadata": {}
  }
 ]
}