{
 "metadata": {
  "name": ""
 },
 "nbformat": 3,
 "nbformat_minor": 0,
 "worksheets": [
  {
   "cells": [
    {
     "cell_type": "code",
     "collapsed": false,
     "input": [
      "# this code assume you have cloned the ecoop GIT repository into your PYTHONPATH directory"
     ],
     "language": "python",
     "metadata": {},
     "outputs": []
    },
    {
     "cell_type": "code",
     "collapsed": false,
     "input": [
      "from ecoop.ecooputil import shareUtil\n",
      "from ecoop.cf import cfData, cfPlot, cfPrint\n",
      "from ecoop.ecooprovdict import ecooProvDict"
     ],
     "language": "python",
     "metadata": {},
     "outputs": []
    },
    {
     "cell_type": "code",
     "collapsed": false,
     "input": [
      "util = shareUtil()\n",
      "cfd = cfData()\n",
      "cfp = cfPlot()\n",
      "cft = cfPrint()"
     ],
     "language": "python",
     "metadata": {},
     "outputs": []
    },
    {
     "cell_type": "code",
     "collapsed": false,
     "input": [
      "ID = util.get_id('Climate-forcing_pdf')"
     ],
     "language": "python",
     "metadata": {},
     "outputs": []
    },
    {
     "cell_type": "code",
     "collapsed": false,
     "input": [
      "# set the ECOOP PROV \n",
      "# ecoop:IPythonNotebookRun startedAtTime  \n",
      "from datetime import datetime\n",
      "ecooProvDict['IPythonNotebookRun']['startedAtTime'] = util.getTime()"
     ],
     "language": "python",
     "metadata": {},
     "outputs": []
    },
    {
     "cell_type": "markdown",
     "metadata": {},
     "source": [
      "##Climate Forcing\n",
      "\n",
      "Climate patterns over the North Atlantic are important drivers of oceanographic conditions and ecosystem states. \n",
      "Steadily increasing atmospheric carbon dioxide levels can not only affect climate on global and regional scales \n",
      "but alter critical aspects of ocean chemistry. Here, we describe the atmospheric forcing mechanisms related \n",
      "to climate in this region including large-scale atmospheric pressure systems, natural ocean temperature cycles in the North Atlantic, \n",
      "components of the large-scale circulation of the Atlantic Ocean, and issues related to ocean acidification."
     ]
    },
    {
     "cell_type": "code",
     "collapsed": false,
     "input": [
      "%%file {ID}/climate_forcing.txt\n",
      "Climate patterns over the North Atlantic are important drivers of oceanographic conditions and ecosystem states. \n",
      "Steadily increasing atmospheric carbon dioxide levels can not only affect climate on global and regional scales \n",
      "but alter critical aspects of ocean chemistry. Here, we describe the atmospheric forcing mechanisms related \n",
      "to climate in this region including large-scale atmospheric pressure systems, natural ocean temperature cycles in the North Atlantic, \n",
      "components of the large-scale circulation of the Atlantic Ocean, and issues related to ocean acidification."
     ],
     "language": "python",
     "metadata": {},
     "outputs": []
    },
    {
     "cell_type": "markdown",
     "metadata": {},
     "source": [
      "***North Atlantic Osccilation (NAO)***\n",
      "\n",
      "Climate and weather over the North Atlantic are strongly influenced by the relative strengths \n",
      "of two large-scale atmospheric pressure cells -- the Icelandic Low and the Azores High [4]. \n",
      "As the relative strengths of these two pressure systems vary, characteristic patterns of temperature, precipitation, and wind fields are observed. \n",
      "An index of this dipole pattern has been developed based on the standardized difference in sea level pressure between Lisbon, Portugal and Reykjav\u00edk, \n",
      "Iceland in the winter (December-February; see Glossary for a description of methods used to create standardized indicators). \n",
      "This North Atlantic Oscillation (NAO) index has been related to key oceanographic and ecological processes in the North Atlantic basin [5].  \n",
      "When the NAO index is high (positive NAO state), the westerly winds shift northward and increase in strength. \n",
      "Additionally, there is an increase in precipitation over southeastern Canada, the eastern seaboard of the United States, \n",
      "and northwestern Europe. Water temperatures are cool off Labrador and northern Newfoundland, influencing the formation of Deep Labrador Slope water, \n",
      "but warm off the United States. \n",
      "Conversely, when the NAO index is low (negative NAO state), there is a southward shift and decrease in westerly winds, decreased storminess, \n",
      "and drier conditions over southeastern Canada, the eastern United States, and northwestern Europe. \n",
      "Water temperatures are warmer off Labrador and Newfoundland, but cooler off the eastern United States. \n",
      "Since 1972, the NAO has primarily been in a positive state (Figure 1), although notable short-term reversals to a negative state have been observed during this period. \n",
      "Changes in the NAO have been linked to changes in plankton community composition in the North Atlantic, reflecting changes in both the distribution \n",
      "and abundance of warm and cold-temperate species."
     ]
    },
    {
     "cell_type": "code",
     "collapsed": false,
     "input": [
      "%%file {ID}/nao.txt\n",
      "Climate and weather over the North Atlantic are strongly influenced by the relative strengths \n",
      "of two large-scale atmospheric pressure cells -- the Icelandic Low and the Azores High [4]. \n",
      "As the relative strengths of these two pressure systems vary, characteristic patterns of temperature, precipitation, and wind fields are observed. \n",
      "An index of this dipole pattern has been developed based on the standardized difference in sea level pressure between Lisbon, Portugal and Reykjav\u00edk, \n",
      "Iceland in the winter (December-February; see Glossary for a description of methods used to create standardized indicators). \n",
      "This North Atlantic Oscillation (NAO) index has been related to key oceanographic and ecological processes in the North Atlantic basin [5].  \n",
      "When the NAO index is high (positive NAO state), the westerly winds shift northward and increase in strength. \n",
      "Additionally, there is an increase in precipitation over southeastern Canada, the eastern seaboard of the United States, \n",
      "and northwestern Europe. Water temperatures are cool off Labrador and northern Newfoundland, influencing the formation of Deep Labrador Slope water, \n",
      "but warm off the United States. \n",
      "Conversely, when the NAO index is low (negative NAO state), there is a southward shift and decrease in westerly winds, decreased storminess, \n",
      "and drier conditions over southeastern Canada, the eastern United States, and northwestern Europe. \n",
      "Water temperatures are warmer off Labrador and Newfoundland, but cooler off the eastern United States. \n",
      "Since 1972, the NAO has primarily been in a positive state (Figure 1), although notable short-term reversals to a negative state have been observed during this period. \n",
      "Changes in the NAO have been linked to changes in plankton community composition in the North Atlantic, reflecting changes in both the distribution \n",
      "and abundance of warm and cold-temperate species."
     ],
     "language": "python",
     "metadata": {},
     "outputs": []
    },
    {
     "cell_type": "code",
     "collapsed": false,
     "input": [
      "naodata = cfd.nao_get(save=ID, csvout=\"nao.csv\")\n",
      "cfp.plot_index(name='NAO_lowess', xticks=10, xticks_fontsize=10, \n",
      "               data=naodata, nb='y', scategory='lowess', frac=1./6, it=6, \n",
      "               output=ID, dateformat=True, figsave=\"nao.png\")"
     ],
     "language": "python",
     "metadata": {},
     "outputs": []
    },
    {
     "cell_type": "markdown",
     "metadata": {},
     "source": [
      "***Atlantic Multidecadal Oscillation (AMO)***\n",
      "\n",
      "Multidecadal patterns in sea surface temperature (SST) in the North Atlantic are represented\n",
      "by the Atlantic Multidecadal Oscillation (AMO) index. \n",
      "The AMO signal is based on spatial patterns in SST variability after removing the effects of anthropogenic forcing on temperature, \n",
      "revealing natural long term cycles in SST.\n",
      "The AMO is characterized by warm and cool phases [6] with periods of approximately 20-40 years. \n",
      "The AMO index is related to air temperatures and rainfall over North America and Europe and is associated \n",
      "with changes in the frequency of droughts in North America and the frequency of severe hurricane events. \n",
      "The AMO is thought to be related to the North Atlantic branch of the deep thermohaline circulation \n",
      "(for more see The Gulf Stream below) which is in turn directly related to dynamics of the Gulf Stream.\n",
      "The AMO index shows a relatively cool period starting in the early 1960s, extending through the mid 1990s. \n",
      "Since 1997, the AMO has been in a warm phase (Figure 2). \n",
      "If past patterns continue to hold, the warm phase will potentially continue for the next several decades."
     ]
    },
    {
     "cell_type": "code",
     "collapsed": false,
     "input": [
      "%%file {ID}/amo.txt\n",
      "Multidecadal patterns in sea surface temperature (SST) in the North Atlantic are represented by the Atlantic Multidecadal Oscillation (AMO) index. \n",
      "The AMO signal is based on spatial patterns in SST variability after removing the effects of anthropogenic forcing on temperature, \n",
      "revealing natural long term cycles in SST.\n",
      "The AMO is characterized by warm and cool phases [6] with periods of approximately 20-40 years. \n",
      "The AMO index is related to air temperatures and rainfall over North America and Europe and is associated \n",
      "with changes in the frequency of droughts in North America and the frequency of severe hurricane events. \n",
      "The AMO is thought to be related to the North Atlantic branch of the deep thermohaline circulation \n",
      "(for more see The Gulf Stream below) which is in turn directly related to dynamics of the Gulf Stream.\n",
      "The AMO index shows a relatively cool period starting in the early 1960s, extending through the mid 1990s. \n",
      "Since 1997, the AMO has been in a warm phase (Figure 2). \n",
      "If past patterns continue to hold, the warm phase will potentially continue for the next several decades."
     ],
     "language": "python",
     "metadata": {},
     "outputs": []
    },
    {
     "cell_type": "code",
     "collapsed": false,
     "input": [
      "# fake for shutdown\n",
      "amodata = cfd.amo_get(save=ID, csvout=\"amo.csv\")\n",
      "cfp.plot_index(name='AMO_lowess', xticks=10, xticks_fontsize=10, \n",
      "               data=amodata, nb='y', scategory='lowess', frac=1./6, it=6, \n",
      "               output=ID, dateformat=True, figsave=\"amo.png\")"
     ],
     "language": "python",
     "metadata": {},
     "outputs": []
    },
    {
     "cell_type": "code",
     "collapsed": false,
     "input": [
      "nb_name = \"ecoop_t1.ipynb\"\n",
      "util.save_notebook(ID, nb_name)"
     ],
     "language": "python",
     "metadata": {},
     "outputs": []
    },
    {
     "cell_type": "code",
     "collapsed": false,
     "input": [
      "import os\n",
      "nb_name = 'ecoop_t1.ipynb'\n",
      "nao_datafile = os.path.join(ID,'nao.csv')\n",
      "amo_datafile = os.path.join(ID,'amo.csv')\n",
      "\n",
      "nbviewerlink = util.gistit(filename=nb_name, jist='/usr/local/bin/jist', type='notebook')\n",
      "naodatalink = util.gistit(filename=nao_datafile, jist='/usr/local/bin/jist', type='text')\n",
      "amodatalink = util.gistit(filename=amo_datafile, jist='/usr/local/bin/jist', type='text')"
     ],
     "language": "python",
     "metadata": {},
     "outputs": []
    },
    {
     "cell_type": "code",
     "collapsed": false,
     "input": [
      "pdfdict = {}\n",
      "\n",
      "pdfdict['amofigfile']= ID+'/amo.png'\n",
      "pdfdict['naofigfile']=ID+'/nao.png'\n",
      "pdfdict['cf'] = ID+'/climate_forcing.txt'\n",
      "pdfdict['amotxt'] = ID+'/amo.txt'\n",
      "pdfdict['naotxt'] = ID+'/nao.txt'\n",
      "pdfdict['textfile'] = 'climate_forcing.tex'\n",
      "pdfdict['nbviewerlink'] = nbviewerlink\n",
      "pdfdict['naodatalink'] = naodatalink\n",
      "pdfdict['amodatalink'] = amodatalink"
     ],
     "language": "python",
     "metadata": {},
     "outputs": []
    },
    {
     "cell_type": "code",
     "collapsed": false,
     "input": [
      "pdfdict['textfile']"
     ],
     "language": "python",
     "metadata": {},
     "outputs": []
    },
    {
     "cell_type": "code",
     "collapsed": false,
     "input": [
      "cfPrint().cftemplate(ID=ID, pdfdict=pdfdict)"
     ],
     "language": "python",
     "metadata": {},
     "outputs": []
    },
    {
     "cell_type": "code",
     "collapsed": false,
     "input": [
      "!pdflatex -output-directory={ID} {ID}/climate_forcing.tex"
     ],
     "language": "python",
     "metadata": {},
     "outputs": []
    },
    {
     "cell_type": "code",
     "collapsed": false,
     "input": [
      "# set the ECOOP PROV \n",
      "# ecoop:IPythonNotebookRun endedAtTime  \n",
      "ecooProvDict['IPythonNotebookRun']['endedAtTime'] = datetime.now()"
     ],
     "language": "python",
     "metadata": {},
     "outputs": []
    },
    {
     "cell_type": "code",
     "collapsed": false,
     "input": [
      "username = 'username'\n",
      "password = 'password'\n",
      "hostname = 'ligo.tw.rpi.edu'\n",
      "port = 22\n",
      "inputfile = ID\n",
      "outputfile = '/var/www/esr/%s' % ID"
     ],
     "language": "python",
     "metadata": {},
     "outputs": []
    },
    {
     "cell_type": "code",
     "collapsed": false,
     "input": [
      "util.uploadfile(username=username, password=password, hostname=hostname, port=port, inputfile=inputfile,outputfile=outputfile, zip=True, link=True, qr=True)"
     ],
     "language": "python",
     "metadata": {},
     "outputs": []
    },
    {
     "cell_type": "markdown",
     "metadata": {},
     "source": [
      "####Source code used :\n",
      "[ecoop](https://raw.github.com/epifanio/ecoop/)"
     ]
    },
    {
     "cell_type": "code",
     "collapsed": false,
     "input": [
      "util.save_notebook(ID, nb_name)"
     ],
     "language": "python",
     "metadata": {},
     "outputs": []
    }
   ],
   "metadata": {}
  }
 ]
}